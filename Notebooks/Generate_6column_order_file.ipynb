{
 "cells": [
  {
   "cell_type": "raw",
   "metadata": {},
   "source": [
    "<script>\n",
    "  function code_toggle() {\n",
    "    if (code_shown){\n",
    "      $('div.input').hide('500');\n",
    "      $('#toggleButton').val('Show Code')\n",
    "    } else {\n",
    "      $('div.input').show('500');\n",
    "      $('#toggleButton').val('Hide Code')\n",
    "    }\n",
    "    code_shown = !code_shown\n",
    "  }\n",
    "\n",
    "  $( document ).ready(function(){\n",
    "    code_shown=false;\n",
    "    $('div.input').hide()\n",
    "  });\n",
    "</script>\n",
    "<form action=\"javascript:code_toggle()\"><input type=\"submit\" id=\"toggleButton\" value=\"Show Code\"></form>"
   ]
  },
  {
   "cell_type": "code",
   "execution_count": 1,
   "metadata": {},
   "outputs": [],
   "source": [
    "import pandas as pd\n",
    "import csv, warnings\n",
    "warnings.filterwarnings(\"ignore\")"
   ]
  },
  {
   "cell_type": "code",
   "execution_count": 5,
   "metadata": {},
   "outputs": [],
   "source": [
    "def write_to_file(output_filename, df, subpool_name, taxon_id, crispr_mech, gene_id_col, gene_sym_col, guide_col):\n",
    "    with open(output_filename, 'w') as o:\n",
    "        w = csv.writer(o)\n",
    "        w.writerow(['Subpool Name', 'Taxon ID', 'CRISPR Mechanism', 'Gene ID', 'Gene Symbol', 'sgRNA sequence'])\n",
    "        for i,r in df.iterrows():\n",
    "            row = [subpool_name, taxon_id, crispr_mech, r[gene_id_col], r[gene_sym_col], r[guide_col]]\n",
    "            w.writerow(row)\n",
    "    return"
   ]
  },
  {
   "cell_type": "markdown",
   "metadata": {},
   "source": [
    "This notebook helps generate a 6-column order file to send to Xiaoping to order a CRISPR knockout/base-editor libraries.\n",
    "Few points of note:\n",
    "1. The input file is a .txt file with columns containing at least guide sequences, gene symbols and gene IDs. The\n",
    "design file can have additional columns.\n",
    "2. The controls that need to be included should be appended to the design file such that\n",
    "guide sequence column has the guide sequence of the controls, gene symbol column has the type of control and the gene ID\n",
    "column can also have the type of control annotation.\n",
    "3. Run the blocks of code below and enter the required information in the prompts."
   ]
  },
  {
   "cell_type": "code",
   "execution_count": 1,
   "metadata": {},
   "outputs": [],
   "source": [
    "input_file = input(\"Please enter design file: \")\n",
    "input_df = pd.read_csv(input_file, sep='\\t')"
   ]
  },
  {
   "cell_type": "markdown",
   "source": [
    "Suggested inputs for the following prompts:\n",
    "1. Subpool name: short description of the pool being ordered.\n",
    "2. Taxon ID: 9606 for human, 10090 for mouse. This [Taxonomy Browser](https://www.ncbi.nlm.nih.gov/Taxonomy/TaxIdentifier/tax_identifier.cgi)\n",
    "tool can be used to get this information for all species."
   ],
   "metadata": {
    "collapsed": false,
    "pycharm": {
     "name": "#%% md\n"
    }
   }
  },
  {
   "cell_type": "code",
   "execution_count": 2,
   "metadata": {
    "pycharm": {
     "name": "#%%\n"
    }
   },
   "outputs": [],
   "source": [
    "output_filename = input(\"Please enter output file name (.csv): \")\n",
    "subpool_name = input('Please enter subpool name: ')\n",
    "taxon_id = input('Please enter taxon ID: ')\n",
    "crispr_mech = input('Please enter CRISPR mechanism (CRISPRbe, CRISPRko etc.): ')\n",
    "gene_id_col = input('Please enter name of column with Gene ID: ')\n",
    "gene_sym_col = input('Please enter name of column with Gene Symbol: ')\n",
    "guide_col = input('Please enter name of column with guide sequences: ')\n",
    "\n",
    "write_to_file(output_filename, input_df, subpool_name, taxon_id, crispr_mech, gene_id_col, gene_sym_col, guide_col)\n"
   ]
  }
 ],
 "metadata": {
  "hide_input": false,
  "kernelspec": {
   "display_name": "Python 3",
   "language": "python",
   "name": "python3"
  },
  "language_info": {
   "codemirror_mode": {
    "name": "ipython",
    "version": 3
   },
   "file_extension": ".py",
   "mimetype": "text/x-python",
   "name": "python",
   "nbconvert_exporter": "python",
   "pygments_lexer": "ipython3",
   "version": "3.8.3"
  },
  "toc": {
   "base_numbering": 1,
   "nav_menu": {},
   "number_sections": true,
   "sideBar": true,
   "skip_h1_title": false,
   "title_cell": "Table of Contents",
   "title_sidebar": "Contents",
   "toc_cell": false,
   "toc_position": {},
   "toc_section_display": true,
   "toc_window_display": false
  },
  "varInspector": {
   "cols": {
    "lenName": 16,
    "lenType": 16,
    "lenVar": 40
   },
   "kernels_config": {
    "python": {
     "delete_cmd_postfix": "",
     "delete_cmd_prefix": "del ",
     "library": "var_list.py",
     "varRefreshCmd": "print(var_dic_list())"
    },
    "r": {
     "delete_cmd_postfix": ") ",
     "delete_cmd_prefix": "rm(",
     "library": "var_list.r",
     "varRefreshCmd": "cat(var_dic_list()) "
    }
   },
   "types_to_exclude": [
    "module",
    "function",
    "builtin_function_or_method",
    "instance",
    "_Feature"
   ],
   "window_display": false
  }
 },
 "nbformat": 4,
 "nbformat_minor": 4
}